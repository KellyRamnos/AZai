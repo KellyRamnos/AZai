{
  "nbformat": 4,
  "nbformat_minor": 0,
  "metadata": {
    "colab": {
      "provenance": [],
      "authorship_tag": "ABX9TyP9O+LKUhGneZT2aJqpeHKV",
      "include_colab_link": true
    },
    "kernelspec": {
      "name": "python3",
      "display_name": "Python 3"
    },
    "language_info": {
      "name": "python"
    }
  },
  "cells": [
    {
      "cell_type": "markdown",
      "metadata": {
        "id": "view-in-github",
        "colab_type": "text"
      },
      "source": [
        "<a href=\"https://colab.research.google.com/github/KellyRamnos/AZai/blob/main/translator_text.ipynb\" target=\"_parent\"><img src=\"https://colab.research.google.com/assets/colab-badge.svg\" alt=\"Open In Colab\"/></a>"
      ]
    },
    {
      "cell_type": "code",
      "execution_count": 4,
      "metadata": {
        "colab": {
          "base_uri": "https://localhost:8080/"
        },
        "id": "xxwquU8OX4kG",
        "outputId": "5777ea9d-b9cf-440f-d744-737347f02f20"
      },
      "outputs": [
        {
          "output_type": "stream",
          "name": "stdout",
          "text": [
            "Requirement already satisfied: requests in /usr/local/lib/python3.10/dist-packages (2.32.3)\n",
            "Requirement already satisfied: python-docx in /usr/local/lib/python3.10/dist-packages (1.1.2)\n",
            "Requirement already satisfied: charset-normalizer<4,>=2 in /usr/local/lib/python3.10/dist-packages (from requests) (3.4.0)\n",
            "Requirement already satisfied: idna<4,>=2.5 in /usr/local/lib/python3.10/dist-packages (from requests) (3.10)\n",
            "Requirement already satisfied: urllib3<3,>=1.21.1 in /usr/local/lib/python3.10/dist-packages (from requests) (2.2.3)\n",
            "Requirement already satisfied: certifi>=2017.4.17 in /usr/local/lib/python3.10/dist-packages (from requests) (2024.8.30)\n",
            "Requirement already satisfied: lxml>=3.1.0 in /usr/local/lib/python3.10/dist-packages (from python-docx) (5.3.0)\n",
            "Requirement already satisfied: typing-extensions>=4.9.0 in /usr/local/lib/python3.10/dist-packages (from python-docx) (4.12.2)\n"
          ]
        }
      ],
      "source": [
        "!pip install requests python-docx"
      ]
    },
    {
      "cell_type": "markdown",
      "source": [],
      "metadata": {
        "id": "bJQGuKleYL2n"
      }
    },
    {
      "cell_type": "code",
      "source": [
        "from typing import Text\n",
        "\n",
        "import requests\n",
        "from docx import Document\n",
        "import os\n",
        "\n",
        "subcription_key = \"006a49775d0e4eca80c84d7277ccd653\"\n",
        "endpoint = 'https://api.cognitive.microsofttranslator.com'\n",
        "location = \"eastus2\"\n",
        "language_destination = 'ptbr'\n",
        "\n",
        "\n",
        "\n",
        "def translator_text(text, target_language):\n",
        "    path = '/translate'\n",
        "    constructed_url = endpoint + path\n",
        "    headrs = {\n",
        "          'Ocp-Apim-Subscription-Key': subcription_key,\n",
        "          'Ocp-Apim-Subscription-Region': location,\n",
        "          'Content-type': 'application/json',\n",
        "          'X-ClientTraceId': str(os.urandon(16))\n",
        "\n",
        "    }\n",
        "\n",
        "    body = [{\n",
        "    'text':Text\n",
        "}]\n",
        "    params = {\n",
        "    'api-version': '3.0',\n",
        "    'from': 'en',\n",
        "    'to': target_language\n",
        "}\n",
        "\n",
        "request = requests.post(constructed_url, params=params, headers=headers, json=body)\n",
        "response = request.json ()\n",
        "return response[0][\"translations\"][0][\"text\"]\n",
        "\n",
        "\n",
        "translator_text(\"One of the key benefits AI brings to project management is predictive analytics\", language_destination)\n",
        "\n",
        "def translate_document(ptah):\n",
        "  document = Document (path)\n",
        "  full_text = []\n",
        "  for paragraphs in document.paragraphs:\n",
        "    translated_text = translator_text(paragraph.text, language_destination)\n",
        "    full_text.append(translated_text)\n",
        "\n",
        "  translated_doc = Document ()\n",
        "  for line in full_text:\n",
        "    translated_doc.add_paragraph_break(line)\n",
        "\n",
        "    path_translated = path.realce(\".docx\", f\"_ f{language_destination}.docx\")\n",
        "    translated_doc.save(path_translated)\n",
        "    return path_translated\n",
        "\n",
        "\n",
        "  imput_file = \"/content/Artificial Intelligence na gestão de projetos.docx\"\n",
        "  translate_document(imput_file)\n"
      ],
      "metadata": {
        "id": "1V13fDK-gC4H"
      },
      "execution_count": null,
      "outputs": []
    },
    {
      "cell_type": "code",
      "source": [],
      "metadata": {
        "colab": {
          "base_uri": "https://localhost:8080/",
          "height": 211
        },
        "id": "zsmpWOEUZgJY",
        "outputId": "5ca2b6bc-eb44-4068-aea6-89f8bf6c8d42"
      },
      "execution_count": 3,
      "outputs": [
        {
          "output_type": "error",
          "ename": "NameError",
          "evalue": "name 'text' is not defined",
          "traceback": [
            "\u001b[0;31m---------------------------------------------------------------------------\u001b[0m",
            "\u001b[0;31mNameError\u001b[0m                                 Traceback (most recent call last)",
            "\u001b[0;32m<ipython-input-3-0aab542c25a5>\u001b[0m in \u001b[0;36m<cell line: 24>\u001b[0;34m()\u001b[0m\n\u001b[1;32m     22\u001b[0m \u001b[0;34m\u001b[0m\u001b[0m\n\u001b[1;32m     23\u001b[0m body = [{\n\u001b[0;32m---> 24\u001b[0;31m     \u001b[0;34m'text'\u001b[0m\u001b[0;34m:\u001b[0m \u001b[0mtext\u001b[0m\u001b[0;34m\u001b[0m\u001b[0;34m\u001b[0m\u001b[0m\n\u001b[0m\u001b[1;32m     25\u001b[0m }]\n\u001b[1;32m     26\u001b[0m Params = {\n",
            "\u001b[0;31mNameError\u001b[0m: name 'text' is not defined"
          ]
        }
      ]
    },
    {
      "cell_type": "markdown",
      "source": [],
      "metadata": {
        "id": "cbyoc7GnZdwb"
      }
    }
  ]
}